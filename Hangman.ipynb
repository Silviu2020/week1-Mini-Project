{
 "cells": [
  {
   "cell_type": "markdown",
   "metadata": {},
   "source": [
    "#                                                Hangman Game"
   ]
  },
  {
   "cell_type": "code",
   "execution_count": 1,
   "metadata": {},
   "outputs": [],
   "source": [
    "# Import Random Module\n",
    "import random"
   ]
  },
  {
   "cell_type": "code",
   "execution_count": 2,
   "metadata": {},
   "outputs": [
    {
     "name": "stdout",
     "output_type": "stream",
     "text": [
      "Chilung\n"
     ]
    }
   ],
   "source": [
    "#Defining a function to randomly select a word from a dictionary\n",
    "def get_word():\n",
    "    \n",
    "    #Path to the text file words.txt, a text file containing 479k English words\n",
    "    #Source: https://github.com/dwyl/english-words/\n",
    "    with open(r'C:\\Users\\silvi\\Ironhack\\data-ber-06-20\\Projects\\module-1_projects\\01_python-project\\your-project\\words.txt', 'r') as f:\n",
    "    \n",
    "    #Reading each word after applying splitlines to return a list of lines in the string\n",
    "        words1 = f.read().splitlines()\n",
    "    \n",
    "    #Returns a random word\n",
    "    return random.choice(words1)\n",
    "\n",
    "chosenword = get_word()\n",
    "print(chosenword)"
   ]
  },
  {
   "cell_type": "code",
   "execution_count": 3,
   "metadata": {},
   "outputs": [
    {
     "name": "stdout",
     "output_type": "stream",
     "text": [
      "* * * * * * * "
     ]
    }
   ],
   "source": [
    "#Defining a function printing placeholders\n",
    "for i in chosenword: \n",
    "      \n",
    "    print(\"*\", end = \" \") "
   ]
  },
  {
   "cell_type": "code",
   "execution_count": 4,
   "metadata": {},
   "outputs": [
    {
     "name": "stdout",
     "output_type": "stream",
     "text": [
      "\n",
      "Word has 7 letters\n"
     ]
    }
   ],
   "source": [
    "#Calculating word size\n",
    "size = len(chosenword)\n",
    "print('\\nWord has %d letters'%size)"
   ]
  },
  {
   "cell_type": "code",
   "execution_count": 5,
   "metadata": {},
   "outputs": [],
   "source": [
    "#Defining function to check if input letter is correct\n",
    "def check(chosenword, input_word, guess1): \n",
    "    status = '' \n",
    "    matches = 0\n",
    "      \n",
    "    for letter in chosenword: \n",
    "        if letter in input_word: \n",
    "            status += letter \n",
    "        else: \n",
    "            status += '*'\n",
    "        if letter == guess1: \n",
    "            matches += 1\n",
    "              \n",
    "    if matches > 1: \n",
    "        print(matches, guess1) \n",
    "          \n",
    "    elif matches == 1: \n",
    "        print(guess1) \n",
    "    return status"
   ]
  },
  {
   "cell_type": "code",
   "execution_count": null,
   "metadata": {},
   "outputs": [
    {
     "name": "stdout",
     "output_type": "stream",
     "text": [
      "Total turns:  8\n"
     ]
    }
   ],
   "source": [
    "# Main Game function \n",
    "def game(): \n",
    "    guess = 0\n",
    "    guessed = False\n",
    "    input_word = [] \n",
    "    turns = len(chosenword) + 1\n",
    "    turns1 = turns \n",
    "      \n",
    "    print(\"Total turns: \", turns) \n",
    "    while guess < turns1: \n",
    "        guess1 = input(\"Enter your guess: \") \n",
    "          \n",
    "        # Decreasing turns after every guess \n",
    "        turns -= 1\n",
    "          \n",
    "        # Print turns left \n",
    "        print(\"Turns left\", turns) \n",
    "          \n",
    "        # If letter is already guessed \n",
    "        if guess1 in input_word: \n",
    "            print(\"You already guessed\") \n",
    "        elif len(guess1) == 1: \n",
    "              \n",
    "            # Appending the letters on their place \n",
    "            input_word.append(guess1) \n",
    "            result = check(chosenword, input_word, guess1) \n",
    "              \n",
    "            if result == chosenword: \n",
    "                guessed = True\n",
    "                print(\"You won \" + name) \n",
    "                print(chosenword) \n",
    "            else: \n",
    "                print(result) \n",
    "        else: \n",
    "            print(\"Wrong try\") \n",
    "        guess += 1\n",
    "    if guess == turns1: \n",
    "        print(\"Word is:\") \n",
    "        print(chosenword) \n",
    "\n",
    "#Driver code\n",
    "game()"
   ]
  },
  {
   "cell_type": "code",
   "execution_count": null,
   "metadata": {},
   "outputs": [],
   "source": []
  }
 ],
 "metadata": {
  "kernelspec": {
   "display_name": "Python 3",
   "language": "python",
   "name": "python3"
  },
  "language_info": {
   "codemirror_mode": {
    "name": "ipython",
    "version": 3
   },
   "file_extension": ".py",
   "mimetype": "text/x-python",
   "name": "python",
   "nbconvert_exporter": "python",
   "pygments_lexer": "ipython3",
   "version": "3.7.4"
  }
 },
 "nbformat": 4,
 "nbformat_minor": 2
}
